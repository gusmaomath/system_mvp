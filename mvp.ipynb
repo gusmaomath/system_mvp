{
 "cells": [
  {
   "cell_type": "markdown",
   "metadata": {},
   "source": [
    "- Fabrício Saavedra - 97631\n",
    "- Guilherme Akio - 98582\n",
    "- Matheus Gusmão - 550826\n",
    "- Matheus Motta - 550352"
   ]
  },
  {
   "cell_type": "markdown",
   "metadata": {},
   "source": [
    "## Biliotecas"
   ]
  },
  {
   "cell_type": "code",
   "execution_count": 9,
   "metadata": {},
   "outputs": [],
   "source": [
    "import random\n",
    "import matplotlib.pyplot as plt"
   ]
  },
  {
   "cell_type": "markdown",
   "metadata": {},
   "source": [
    "## 1. Classe Aluno\n",
    "- A classe Aluno é uma representação de um aluno com seu nome e nota final."
   ]
  },
  {
   "cell_type": "code",
   "execution_count": 10,
   "metadata": {},
   "outputs": [],
   "source": [
    "# Classe Aluno\n",
    "class Aluno:\n",
    "    def __init__(self, nome, nota_final):\n",
    "        self.nome = nome\n",
    "        self.nota_final = nota_final\n",
    "\n",
    "    def __repr__(self):\n",
    "        return f\"{self.nome} - {self.nota_final:.2f}\""
   ]
  },
  {
   "cell_type": "markdown",
   "metadata": {},
   "source": [
    "### Atributos:\n",
    "\n",
    "- nome: O nome do aluno.\n",
    "- nota_final: A nota final do aluno.\n",
    "- Método __repr__: Este método define como o objeto da classe será representado ao ser impresso, exibindo o nome e a nota do aluno com duas casas decimais."
   ]
  },
  {
   "cell_type": "markdown",
   "metadata": {},
   "source": [
    "## 2. Função Quicksort para ordenar alunos por nota\n",
    "- O Quicksort é um algoritmo de ordenação eficiente, usado para ordenar os alunos com base nas notas finais em ordem decrescente."
   ]
  },
  {
   "cell_type": "code",
   "execution_count": 11,
   "metadata": {},
   "outputs": [],
   "source": [
    "# Função de Quicksort para o ranking dos alunos\n",
    "def quicksort(alunos):\n",
    "    if len(alunos) <= 1:\n",
    "        return alunos\n",
    "    else:\n",
    "        pivô = alunos[0]\n",
    "        menores = [aluno for aluno in alunos[1:] if aluno.nota_final < pivô.nota_final]\n",
    "        maiores = [aluno for aluno in alunos[1:] if aluno.nota_final >= pivô.nota_final]\n",
    "        return quicksort(maiores) + [pivô] + quicksort(menores)"
   ]
  },
  {
   "cell_type": "markdown",
   "metadata": {},
   "source": [
    "- Entrada: Uma lista de objetos da classe Aluno.\n",
    "- Processo: O algoritmo escolhe um \"pivô\" (primeiro aluno da lista) e divide os alunos em duas partes:\n",
    "- menores: Alunos com notas menores que o pivô.\n",
    "- maiores: Alunos com notas maiores ou iguais ao pivô.\n",
    "- Saída: Uma lista ordenada dos alunos em ordem decrescente de nota."
   ]
  },
  {
   "cell_type": "markdown",
   "metadata": {},
   "source": [
    "## 3. Simulação Cirúrgica com Programação Dinâmica\n",
    "A simulação cirúrgica avalia a execução de três passos principais usando Programação Dinâmica (PD) para evitar recalcular os passos já executados."
   ]
  },
  {
   "cell_type": "markdown",
   "metadata": {},
   "source": [
    "### Atributos:\n",
    "- passos: Os três passos da simulação.\n",
    "- erros: Contador de erros cometidos pelo aluno.\n",
    "- dp: Armazena resultados já calculados para evitar recalcular os mesmos passos.\n",
    "### Métodos:\n",
    "- iniciar: Inicia a simulação.\n",
    "- executar_passos: Executa cada passo e verifica se o aluno cometeu algum erro. Usa Programação Dinâmica para armazenar resultados intermediários.\n",
    "- avaliar: Faz uma avaliação geral dos erros e do custo total (penalidades), resultando na nota final."
   ]
  },
  {
   "cell_type": "code",
   "execution_count": 12,
   "metadata": {},
   "outputs": [],
   "source": [
    "class SimulacaoCirurgicaPD:\n",
    "    def __init__(self):\n",
    "        self.passos = [\"Preparar o campo cirúrgico\", \"Realizar incisão\", \"Suturar ferida\"]\n",
    "        \n",
    "        self.erros = 0\n",
    "        self.dp = {}\n",
    "\n",
    "    def iniciar(self):\n",
    "        print(\"Iniciando simulação cirúrgica com programação dinâmica...\")\n",
    "\n",
    "    def executar_passos(self, passo_atual=0):\n",
    "        if passo_atual >= len(self.passos):\n",
    "            return 0  # Se todos os passos foram completados, o custo é 0\n",
    "\n",
    "        if passo_atual in self.dp:\n",
    "            return self.dp[passo_atual]  # Retornar o resultado já computado\n",
    "\n",
    "        print(f\"Passo {passo_atual + 1}: {self.passos[passo_atual]}\")\n",
    "        resposta = input(\"Descreva sua ação: \")\n",
    "\n",
    "        # Se a ação está correta, não há penalidade, caso contrário, penalidade de 10\n",
    "        if resposta != self.passos[passo_atual]:\n",
    "            penalidade = 10  # Penalidade para ação incorreta\n",
    "            self.erros += 1\n",
    "        else:\n",
    "            penalidade = 0\n",
    "\n",
    "        # Guardar a soma da penalidade com os passos restantes\n",
    "        self.dp[passo_atual] = penalidade + self.executar_passos(passo_atual + 1)\n",
    "        return self.dp[passo_atual]\n",
    "\n",
    "    def avaliar(self):\n",
    "        print(\"\\n--- Avaliação Cirúrgica com Programação Dinâmica ---\")\n",
    "        custo_total = self.executar_passos()\n",
    "        print(f\"Erros: {self.erros}\")\n",
    "        print(f\"Custo total (tempo + penalidades): {custo_total}\")\n",
    "        nota = max(100 - custo_total, 50)\n",
    "        print(f\"Nota final: {nota}\")\n",
    "        return nota, custo_total"
   ]
  },
  {
   "cell_type": "markdown",
   "metadata": {},
   "source": [
    "## 4. Simulação de Monte Carlo para situações de pressão\n",
    "Este modelo simula situações em que o aluno precisa responder sob pressão. Ele utiliza o método de Monte Carlo, que simula cenários várias vezes (1000 vezes por padrão)."
   ]
  },
  {
   "cell_type": "code",
   "execution_count": 13,
   "metadata": {},
   "outputs": [],
   "source": [
    "# Simulação de Monte Carlo para situações sob pressão\n",
    "class SimulacaoMonteCarlo:\n",
    "    def __init__(self):\n",
    "        self.situacoes = [\"Controlar hemorragia\", \"Realizar compressão torácica\", \"Estabilizar pressão arterial\"]\n",
    "        self.resultados = []\n",
    "\n",
    "    def iniciar(self):\n",
    "        print(\"\\nIniciando Simulação de Situação de Pressão com Monte Carlo...\")\n",
    "        \n",
    "    def simular(self, num_simulacoes=1000):\n",
    "        for _ in range(num_simulacoes):\n",
    "            erros = 0\n",
    "            tempo_total = 0\n",
    "            for situacao in self.situacoes:\n",
    "                tempo_resposta = random.uniform(1, 10)  # Tempo de resposta aleatório entre 1 e 10 segundos\n",
    "                acerto = random.choice([True, False])  # Simular acerto ou erro\n",
    "                if not acerto:\n",
    "                    erros += 1\n",
    "                tempo_total += tempo_resposta\n",
    "            \n",
    "            # Armazenar resultado da simulação\n",
    "            self.resultados.append((tempo_total, erros))\n",
    "\n",
    "    def avaliar_simulacao(self):\n",
    "        print(\"\\n--- Avaliação Simulação Monte Carlo ---\")\n",
    "        tempos = [resultado[0] for resultado in self.resultados]\n",
    "        erros = [resultado[1] for resultado in self.resultados]\n",
    "\n",
    "        media_tempo = sum(tempos) / len(tempos)\n",
    "        media_erros = sum(erros) / len(erros)\n",
    "\n",
    "        print(f\"Tempo médio: {media_tempo:.2f} segundos\")\n",
    "        print(f\"Média de erros: {media_erros:.2f}\")\n",
    "        nota_final = max(100 - (media_erros * 10 + media_tempo), 50)\n",
    "        print(f\"Nota final da simulação Monte Carlo: {nota_final:.2f}\")\n",
    "        return nota_final"
   ]
  },
  {
   "cell_type": "markdown",
   "metadata": {},
   "source": [
    "### Atributos:\n",
    "\n",
    "- situacoes: Lista de situações a serem resolvidas pelo aluno.\n",
    "- resultados: Armazena os tempos de resposta e número de erros em cada simulação.\n",
    "### Métodos:\n",
    "\n",
    "- iniciar: Inicia a simulação.\n",
    "- simular: Realiza várias simulações, onde cada simulação consiste em responder três situações com tempos e acertos aleatórios.\n",
    "- avaliar_simulacao: Calcula a média de erros e tempos e gera uma nota final."
   ]
  },
  {
   "cell_type": "markdown",
   "metadata": {},
   "source": [
    "## 5. Classe AnaliseRanking para análise de desempenho e gráficos\n",
    "Esta classe gera gráficos e rankings dos alunos com base em suas notas."
   ]
  },
  {
   "cell_type": "code",
   "execution_count": 14,
   "metadata": {},
   "outputs": [],
   "source": [
    "# Classe para análise do desempenho e geração de gráficos\n",
    "class AnaliseRanking:\n",
    "    def __init__(self, alunos):\n",
    "        self.alunos = alunos\n",
    "\n",
    "    def gerar_grafico_notas(self):\n",
    "        nomes = [aluno.nome for aluno in self.alunos]\n",
    "        notas = [aluno.nota_final for aluno in self.alunos]\n",
    "\n",
    "        plt.figure(figsize=(10, 5))\n",
    "        plt.bar(nomes, notas, color='skyblue')\n",
    "        plt.xlabel('Alunos')\n",
    "        plt.ylabel('Notas')\n",
    "        plt.title('Desempenho dos Alunos')\n",
    "        plt.show()\n",
    "\n",
    "    def exibir_ranking(self):\n",
    "        ranking_ordenado = quicksort(self.alunos)\n",
    "        print(\"\\n--- Ranking dos Alunos ---\")\n",
    "        for aluno in ranking_ordenado:\n",
    "            print(aluno)\n",
    "\n",
    "    def gerar_relatorio_txt(self, filepath):\n",
    "        ranking_ordenado = quicksort(self.alunos)\n",
    "        with open(filepath, 'w') as f:\n",
    "            f.write(\"--- Ranking dos Alunos ---\\n\")\n",
    "            for aluno in ranking_ordenado:\n",
    "                f.write(f\"{aluno}\\n\")\n",
    "            f.write(\"\\nRelatório gerado com sucesso.\\n\")"
   ]
  },
  {
   "cell_type": "markdown",
   "metadata": {},
   "source": [
    "### Métodos:\n",
    "- gerar_grafico_notas: Gera um gráfico de barras com as notas dos alunos.\n",
    "- exibir_ranking: Exibe o ranking dos alunos em ordem decrescente de nota.\n",
    "- gerar_relatorio_txt: Gera um arquivo .txt com o ranking dos alunos."
   ]
  },
  {
   "cell_type": "markdown",
   "metadata": {},
   "source": [
    "## 6. Uso do sistema"
   ]
  },
  {
   "cell_type": "code",
   "execution_count": 16,
   "metadata": {},
   "outputs": [
    {
     "name": "stdout",
     "output_type": "stream",
     "text": [
      "Iniciando simulação cirúrgica com programação dinâmica...\n",
      "Passo 1: Preparar o campo cirúrgico\n",
      "Resposta do aluno: Preparar o campo cirúrgico\n",
      "Passo 2: Realizar incisão\n",
      "Resposta do aluno: Incisão errada\n",
      "Passo 3: Suturar ferida\n",
      "Resposta do aluno: Suturar ferida\n",
      "\n",
      "--- Avaliação Cirúrgica com Programação Dinâmica ---\n",
      "Passo 1: Preparar o campo cirúrgico\n",
      "Passo 2: Realizar incisão\n",
      "Passo 3: Suturar ferida\n",
      "Erros: 4\n",
      "Custo total (tempo + penalidades): 30\n",
      "Nota final: 70\n",
      "Nota da Simulação Cirúrgica: 70.00, Custo total: 30\n"
     ]
    }
   ],
   "source": [
    "# Inicializando a Simulação Cirúrgica com Programação Dinâmica\n",
    "simulacao_cirurgica = SimulacaoCirurgicaPD()\n",
    "simulacao_cirurgica.iniciar()\n",
    "\n",
    "# Teste para simular o procedimento cirúrgico com uma sequência de respostas corretas/incorretas\n",
    "# Aqui, as respostas são automatizadas, mas você pode substituir por entrada manual de usuários\n",
    "respostas_simulacao = [\"Preparar o campo cirúrgico\", \"Incisão errada\", \"Suturar ferida\"]\n",
    "for idx, resposta in enumerate(respostas_simulacao):\n",
    "    print(f\"Passo {idx + 1}: {simulacao_cirurgica.passos[idx]}\")\n",
    "    print(f\"Resposta do aluno: {resposta}\")\n",
    "    if resposta != simulacao_cirurgica.passos[idx]:\n",
    "        simulacao_cirurgica.erros += 1\n",
    "\n",
    "# Avaliação final da simulação cirúrgica\n",
    "nota_cirurgica, custo_total_cirurgica = simulacao_cirurgica.avaliar()\n",
    "print(f\"Nota da Simulação Cirúrgica: {nota_cirurgica:.2f}, Custo total: {custo_total_cirurgica}\")"
   ]
  },
  {
   "cell_type": "code",
   "execution_count": 17,
   "metadata": {},
   "outputs": [
    {
     "name": "stdout",
     "output_type": "stream",
     "text": [
      "\n",
      "Iniciando Simulação de Situação de Pressão com Monte Carlo...\n",
      "\n",
      "--- Avaliação Simulação Monte Carlo ---\n",
      "Tempo médio: 16.67 segundos\n",
      "Média de erros: 1.48\n",
      "Nota final da simulação Monte Carlo: 68.54\n",
      "Nota da Simulação Monte Carlo: 68.54\n"
     ]
    }
   ],
   "source": [
    "# Inicializando a Simulação de Monte Carlo\n",
    "simulacao_montecarlo = SimulacaoMonteCarlo()\n",
    "simulacao_montecarlo.iniciar()\n",
    "\n",
    "# Simulando com 1000 execuções (Monte Carlo)\n",
    "simulacao_montecarlo.simular(num_simulacoes=1000)\n",
    "\n",
    "# Avaliando a simulação Monte Carlo\n",
    "nota_montecarlo = simulacao_montecarlo.avaliar_simulacao()\n",
    "print(f\"Nota da Simulação Monte Carlo: {nota_montecarlo:.2f}\")"
   ]
  },
  {
   "cell_type": "code",
   "execution_count": 15,
   "metadata": {},
   "outputs": [
    {
     "data": {
      "image/png": "[encoded data removed]",
      "text/plain": [
       "<Figure size 1000x500 with 1 Axes>"
      ]
     },
     "metadata": {},
     "output_type": "display_data"
    },
    {
     "name": "stdout",
     "output_type": "stream",
     "text": [
      "\n",
      "--- Ranking dos Alunos ---\n",
      "Ana - 95.00\n",
      "Bianca - 92.30\n",
      "Matheus - 85.50\n",
      "João - 80.40\n",
      "Lucas - 78.00\n"
     ]
    }
   ],
   "source": [
    "# Simulação do uso de todo o sistema\n",
    "\n",
    "# Criando alunos fictícios para a simulação\n",
    "alunos = [\n",
    "    Aluno(\"Matheus\", 85.5),\n",
    "    Aluno(\"Ana\", 95.0),\n",
    "    Aluno(\"Lucas\", 78.0),\n",
    "    Aluno(\"Bianca\", 92.3),\n",
    "    Aluno(\"João\", 80.4)\n",
    "]\n",
    "\n",
    "# Executando análise e gerando gráficos\n",
    "analise = AnaliseRanking(alunos)\n",
    "analise.gerar_grafico_notas()\n",
    "analise.exibir_ranking()\n",
    "\n",
    "# Gerando o relatório em um arquivo .txt\n",
    "output_filepath = 'relatorio_alunos_completo.txt'\n",
    "analise.gerar_relatorio_txt(output_filepath)"
   ]
  }
 ],
 "metadata": {
  "kernelspec": {
   "display_name": "Python 3",
   "language": "python",
   "name": "python3"
  },
  "language_info": {
   "codemirror_mode": {
    "name": "ipython",
    "version": 3
   },
   "file_extension": ".py",
   "mimetype": "text/x-python",
   "name": "python",
   "nbconvert_exporter": "python",
   "pygments_lexer": "ipython3",
   "version": "3.11.3"
  }
 },
 "nbformat": 4,
 "nbformat_minor": 2
}
